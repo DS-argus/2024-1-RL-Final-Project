{
 "cells": [
  {
   "cell_type": "code",
   "execution_count": 1,
   "metadata": {},
   "outputs": [],
   "source": [
    "from data import load_dataset \n",
    "import numpy as np\n",
    "import os\n",
    "import pandas as pd\n",
    "ROOT_DIR = os.getcwd()\n",
    "DATA_DIR = os.path.join(ROOT_DIR, 'data/ml-1m/')"
   ]
  },
  {
   "cell_type": "markdown",
   "metadata": {},
   "source": [
    "#### User_dict, User_history npy 파일 만들기"
   ]
  },
  {
   "cell_type": "code",
   "execution_count": 2,
   "metadata": {},
   "outputs": [
    {
     "data": {
      "text/html": [
       "<div>\n",
       "<style scoped>\n",
       "    .dataframe tbody tr th:only-of-type {\n",
       "        vertical-align: middle;\n",
       "    }\n",
       "\n",
       "    .dataframe tbody tr th {\n",
       "        vertical-align: top;\n",
       "    }\n",
       "\n",
       "    .dataframe thead th {\n",
       "        text-align: right;\n",
       "    }\n",
       "</style>\n",
       "<table border=\"1\" class=\"dataframe\">\n",
       "  <thead>\n",
       "    <tr style=\"text-align: right;\">\n",
       "      <th></th>\n",
       "      <th>userID</th>\n",
       "      <th>itemID</th>\n",
       "      <th>ratings</th>\n",
       "      <th>timestamp</th>\n",
       "    </tr>\n",
       "  </thead>\n",
       "  <tbody>\n",
       "    <tr>\n",
       "      <th>268822</th>\n",
       "      <td>6038</td>\n",
       "      <td>662</td>\n",
       "      <td>4</td>\n",
       "      <td>956703932</td>\n",
       "    </tr>\n",
       "    <tr>\n",
       "      <th>88596</th>\n",
       "      <td>6038</td>\n",
       "      <td>489</td>\n",
       "      <td>5</td>\n",
       "      <td>956703954</td>\n",
       "    </tr>\n",
       "    <tr>\n",
       "      <th>655460</th>\n",
       "      <td>6038</td>\n",
       "      <td>1715</td>\n",
       "      <td>4</td>\n",
       "      <td>956703954</td>\n",
       "    </tr>\n",
       "    <tr>\n",
       "      <th>29800</th>\n",
       "      <td>6038</td>\n",
       "      <td>1403</td>\n",
       "      <td>4</td>\n",
       "      <td>956703977</td>\n",
       "    </tr>\n",
       "    <tr>\n",
       "      <th>366450</th>\n",
       "      <td>6038</td>\n",
       "      <td>1453</td>\n",
       "      <td>5</td>\n",
       "      <td>956703977</td>\n",
       "    </tr>\n",
       "    <tr>\n",
       "      <th>...</th>\n",
       "      <td>...</td>\n",
       "      <td>...</td>\n",
       "      <td>...</td>\n",
       "      <td>...</td>\n",
       "    </tr>\n",
       "    <tr>\n",
       "      <th>415827</th>\n",
       "      <td>5946</td>\n",
       "      <td>2260</td>\n",
       "      <td>4</td>\n",
       "      <td>1046437932</td>\n",
       "    </tr>\n",
       "    <tr>\n",
       "      <th>174096</th>\n",
       "      <td>5310</td>\n",
       "      <td>2376</td>\n",
       "      <td>4</td>\n",
       "      <td>1046444711</td>\n",
       "    </tr>\n",
       "    <tr>\n",
       "      <th>264155</th>\n",
       "      <td>4956</td>\n",
       "      <td>2506</td>\n",
       "      <td>4</td>\n",
       "      <td>1046454320</td>\n",
       "    </tr>\n",
       "    <tr>\n",
       "      <th>371493</th>\n",
       "      <td>4956</td>\n",
       "      <td>1027</td>\n",
       "      <td>5</td>\n",
       "      <td>1046454443</td>\n",
       "    </tr>\n",
       "    <tr>\n",
       "      <th>297066</th>\n",
       "      <td>4956</td>\n",
       "      <td>2374</td>\n",
       "      <td>4</td>\n",
       "      <td>1046454548</td>\n",
       "    </tr>\n",
       "  </tbody>\n",
       "</table>\n",
       "<p>730012 rows × 4 columns</p>\n",
       "</div>"
      ],
      "text/plain": [
       "        userID  itemID  ratings   timestamp\n",
       "268822    6038     662        4   956703932\n",
       "88596     6038     489        5   956703954\n",
       "655460    6038    1715        4   956703954\n",
       "29800     6038    1403        4   956703977\n",
       "366450    6038    1453        5   956703977\n",
       "...        ...     ...      ...         ...\n",
       "415827    5946    2260        4  1046437932\n",
       "174096    5310    2376        4  1046444711\n",
       "264155    4956    2506        4  1046454320\n",
       "371493    4956    1027        5  1046454443\n",
       "297066    4956    2374        4  1046454548\n",
       "\n",
       "[730012 rows x 4 columns]"
      ]
     },
     "execution_count": 2,
     "metadata": {},
     "output_type": "execute_result"
    }
   ],
   "source": [
    "convert = pd.read_csv(os.path.join(DATA_DIR, 'ratings_converted.csv'))\n",
    "convert = convert.applymap(int)\n",
    "convert = convert.sort_values(by='timestamp', ascending=True)       #이렇게 정리해야 user_dict의 history가 최근순으로 정렬됨? -> 근데 어차피 일관성만 있으면 괜찮을 듯\n",
    "convert"
   ]
  },
  {
   "cell_type": "code",
   "execution_count": 3,
   "metadata": {},
   "outputs": [],
   "source": [
    "users_dict = {user : [] for user in set(convert[\"userID\"])}"
   ]
  },
  {
   "cell_type": "code",
   "execution_count": 4,
   "metadata": {},
   "outputs": [],
   "source": [
    "# add (movie, rating) pair to the user dictionary\n",
    "## add movie rated >= 4 only\n",
    "convert_gen = convert.iterrows()\n",
    "users_dict_for_history_len = {user : [] for user in set(convert[\"userID\"])}\n",
    "for data in convert_gen:\n",
    "    users_dict[data[1]['userID']].append((data[1]['itemID'], data[1]['ratings']))\n",
    "    if data[1]['ratings'] >= 4:\n",
    "        users_dict_for_history_len[data[1]['userID']].append((data[1]['itemID'], data[1]['ratings']))"
   ]
  },
  {
   "cell_type": "code",
   "execution_count": 5,
   "metadata": {},
   "outputs": [],
   "source": [
    "users_history_lens = [len(users_dict_for_history_len[u]) for u in set(convert[\"userID\"])]"
   ]
  },
  {
   "cell_type": "code",
   "execution_count": 6,
   "metadata": {},
   "outputs": [],
   "source": [
    "# save each data as npy to save time for future evaluation\n",
    "np.save(\"./data/final_user_dict.npy\", users_dict)\n",
    "np.save(\"./data/final_users_history_len.npy\", users_history_lens)"
   ]
  },
  {
   "cell_type": "markdown",
   "metadata": {},
   "source": [
    "#### load_dataset 함수 확인"
   ]
  },
  {
   "cell_type": "code",
   "execution_count": 2,
   "metadata": {},
   "outputs": [
    {
     "name": "stdout",
     "output_type": "stream",
     "text": [
      "Interact Data loading...\n",
      "Data loading complete!\n",
      "Data preprocessing...\n",
      "total users_num : 6039, total items_num : 2819\n",
      "train_users_num : 4831\n",
      "Done\n"
     ]
    }
   ],
   "source": [
    "train_users_num, train_items_num, train_users_dict, train_users_history_lens, movies_id_to_movies = load_dataset(DATA_DIR, 'train')"
   ]
  },
  {
   "cell_type": "code",
   "execution_count": 3,
   "metadata": {},
   "outputs": [
    {
     "name": "stdout",
     "output_type": "stream",
     "text": [
      "Interact Data loading...\n",
      "Data loading complete!\n",
      "Data preprocessing...\n",
      "total users_num : 6039, total items_num : 2819\n",
      "eval_users_num : 1208\n",
      "Done\n"
     ]
    }
   ],
   "source": [
    "eval_users_num, _, test_users_dict, test_users_history_lens, _ = load_dataset(DATA_DIR, 'test')"
   ]
  },
  {
   "cell_type": "code",
   "execution_count": 4,
   "metadata": {},
   "outputs": [
    {
     "name": "stdout",
     "output_type": "stream",
     "text": [
      "set()\n",
      "4831 1208\n"
     ]
    }
   ],
   "source": [
    "# key 값 겹치는지 확인\n",
    "train_key = train_users_dict.keys()\n",
    "test_key = test_users_dict.keys()\n",
    "print(train_key & test_key)\n",
    "print(len(train_key), len(test_key))"
   ]
  },
  {
   "cell_type": "code",
   "execution_count": 5,
   "metadata": {},
   "outputs": [],
   "source": [
    "# history_len에 positive rating만 들어간건지 확인\n",
    "for user_id, history in train_users_dict.items():\n",
    "    cnt = 0\n",
    "    for movie_id, rating in history:\n",
    "        if rating > 3:\n",
    "            cnt += 1\n",
    "    \n",
    "    if cnt != train_users_history_lens[user_id]:\n",
    "        print(user_id, cnt, train_users_history_lens[user_id])"
   ]
  },
  {
   "cell_type": "code",
   "execution_count": 7,
   "metadata": {},
   "outputs": [],
   "source": [
    "for user_id, history in test_users_dict.items():\n",
    "    cnt = 0\n",
    "    for movie_id, rating in history:\n",
    "        if rating > 3:\n",
    "            cnt += 1\n",
    "    \n",
    "    if cnt != test_users_history_lens[user_id]:\n",
    "        print(user_id, cnt, test_users_history_lens[user_id])"
   ]
  }
 ],
 "metadata": {
  "kernelspec": {
   "display_name": "soungminwoo_DRL",
   "language": "python",
   "name": "python3"
  },
  "language_info": {
   "codemirror_mode": {
    "name": "ipython",
    "version": 3
   },
   "file_extension": ".py",
   "mimetype": "text/x-python",
   "name": "python",
   "nbconvert_exporter": "python",
   "pygments_lexer": "ipython3",
   "version": "3.8.15"
  }
 },
 "nbformat": 4,
 "nbformat_minor": 2
}
